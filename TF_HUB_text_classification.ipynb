{
 "cells": [
  {
   "cell_type": "markdown",
   "id": "b8849f19",
   "metadata": {},
   "source": [
    "## In this time, I applied tf hub for transfer learning"
   ]
  },
  {
   "cell_type": "code",
   "execution_count": 1,
   "id": "07081685",
   "metadata": {
    "scrolled": true
   },
   "outputs": [
    {
     "name": "stdout",
     "output_type": "stream",
     "text": [
      "Requirement already satisfied: tensorflow-hub in c:\\users\\krisn\\anaconda3\\envs\\nlp\\lib\\site-packages (0.12.0)\n",
      "Requirement already satisfied: protobuf>=3.8.0 in c:\\users\\krisn\\anaconda3\\envs\\nlp\\lib\\site-packages (from tensorflow-hub) (3.17.3)\n",
      "Requirement already satisfied: numpy>=1.12.0 in c:\\users\\krisn\\anaconda3\\envs\\nlp\\lib\\site-packages (from tensorflow-hub) (1.18.5)\n",
      "Requirement already satisfied: six>=1.9 in c:\\users\\krisn\\anaconda3\\envs\\nlp\\lib\\site-packages (from protobuf>=3.8.0->tensorflow-hub) (1.15.0)\n",
      "Requirement already satisfied: tfds-nightly in c:\\users\\krisn\\anaconda3\\envs\\nlp\\lib\\site-packages (4.4.0.dev202109090107)\n",
      "Requirement already satisfied: future in c:\\users\\krisn\\anaconda3\\envs\\nlp\\lib\\site-packages (from tfds-nightly) (0.18.2)\n",
      "Requirement already satisfied: termcolor in c:\\users\\krisn\\anaconda3\\envs\\nlp\\lib\\site-packages (from tfds-nightly) (1.1.0)\n",
      "Requirement already satisfied: tqdm in c:\\users\\krisn\\anaconda3\\envs\\nlp\\lib\\site-packages (from tfds-nightly) (4.62.1)\n",
      "Requirement already satisfied: importlib-resources in c:\\users\\krisn\\anaconda3\\envs\\nlp\\lib\\site-packages (from tfds-nightly) (5.2.2)\n",
      "Requirement already satisfied: protobuf>=3.12.2 in c:\\users\\krisn\\anaconda3\\envs\\nlp\\lib\\site-packages (from tfds-nightly) (3.17.3)\n",
      "Requirement already satisfied: absl-py in c:\\users\\krisn\\anaconda3\\envs\\nlp\\lib\\site-packages (from tfds-nightly) (0.12.0)\n",
      "Requirement already satisfied: six in c:\\users\\krisn\\anaconda3\\envs\\nlp\\lib\\site-packages (from tfds-nightly) (1.15.0)\n",
      "Requirement already satisfied: tensorflow-metadata in c:\\users\\krisn\\anaconda3\\envs\\nlp\\lib\\site-packages (from tfds-nightly) (1.2.0)\n",
      "Requirement already satisfied: requests>=2.19.0 in c:\\users\\krisn\\anaconda3\\envs\\nlp\\lib\\site-packages (from tfds-nightly) (2.26.0)\n",
      "Requirement already satisfied: promise in c:\\users\\krisn\\anaconda3\\envs\\nlp\\lib\\site-packages (from tfds-nightly) (2.3)\n",
      "Requirement already satisfied: dill in c:\\users\\krisn\\anaconda3\\envs\\nlp\\lib\\site-packages (from tfds-nightly) (0.3.4)\n",
      "Requirement already satisfied: typing-extensions in c:\\users\\krisn\\anaconda3\\envs\\nlp\\lib\\site-packages (from tfds-nightly) (3.7.4.3)\n",
      "Requirement already satisfied: numpy in c:\\users\\krisn\\anaconda3\\envs\\nlp\\lib\\site-packages (from tfds-nightly) (1.18.5)\n",
      "Requirement already satisfied: urllib3<1.27,>=1.21.1 in c:\\users\\krisn\\anaconda3\\envs\\nlp\\lib\\site-packages (from requests>=2.19.0->tfds-nightly) (1.26.6)\n",
      "Requirement already satisfied: charset-normalizer~=2.0.0 in c:\\users\\krisn\\anaconda3\\envs\\nlp\\lib\\site-packages (from requests>=2.19.0->tfds-nightly) (2.0.4)\n",
      "Requirement already satisfied: certifi>=2017.4.17 in c:\\users\\krisn\\anaconda3\\envs\\nlp\\lib\\site-packages (from requests>=2.19.0->tfds-nightly) (2021.5.30)\n",
      "Requirement already satisfied: idna<4,>=2.5 in c:\\users\\krisn\\anaconda3\\envs\\nlp\\lib\\site-packages (from requests>=2.19.0->tfds-nightly) (2.10)\n",
      "Requirement already satisfied: zipp>=3.1.0 in c:\\users\\krisn\\anaconda3\\envs\\nlp\\lib\\site-packages (from importlib-resources->tfds-nightly) (3.5.0)\n",
      "Requirement already satisfied: googleapis-common-protos<2,>=1.52.0 in c:\\users\\krisn\\anaconda3\\envs\\nlp\\lib\\site-packages (from tensorflow-metadata->tfds-nightly) (1.53.0)\n",
      "Requirement already satisfied: colorama in c:\\users\\krisn\\anaconda3\\envs\\nlp\\lib\\site-packages (from tqdm->tfds-nightly) (0.4.4)\n",
      "2.3.0\n",
      "0.12.0\n",
      "GPU Off\n"
     ]
    }
   ],
   "source": [
    "import tensorflow as tf \n",
    "from tensorflow import keras\n",
    "\n",
    "import numpy as np\n",
    "\n",
    "!pip install tensorflow-hub\n",
    "!pip install tfds-nightly\n",
    "import tensorflow_hub as hub\n",
    "import tensorflow_datasets as tfds\n",
    "\n",
    "print(tf.__version__)\n",
    "print(hub.__version__)\n",
    "print('GPU', 'On' if tf.config.experimental.list_physical_devices(\"GPU\") else 'Off')"
   ]
  },
  {
   "cell_type": "code",
   "execution_count": 2,
   "id": "f3da1472",
   "metadata": {},
   "outputs": [],
   "source": [
    "train_data, validation_data, test_data = tfds.load(\n",
    "    name='imdb_reviews',\n",
    "    split=('train[:60%]', 'train[60%:]', 'test'),\n",
    "    as_supervised=True\n",
    ")"
   ]
  },
  {
   "cell_type": "code",
   "execution_count": 3,
   "id": "adb13956",
   "metadata": {},
   "outputs": [
    {
     "data": {
      "text/plain": [
       "(15000, 10000, 25000)"
      ]
     },
     "execution_count": 3,
     "metadata": {},
     "output_type": "execute_result"
    }
   ],
   "source": [
    "len(train_data), len(validation_data), len(test_data)"
   ]
  },
  {
   "cell_type": "code",
   "execution_count": 4,
   "id": "a3536375",
   "metadata": {},
   "outputs": [
    {
     "data": {
      "text/plain": [
       "<tf.Tensor: shape=(10,), dtype=string, numpy=\n",
       "array([b\"This was an absolutely terrible movie. Don't be lured in by Christopher Walken or Michael Ironside. Both are great actors, but this must simply be their worst role in history. Even their great acting could not redeem this movie's ridiculous storyline. This movie is an early nineties US propaganda piece. The most pathetic scenes were those when the Columbian rebels were making their cases for revolutions. Maria Conchita Alonso appeared phony, and her pseudo-love affair with Walken was nothing but a pathetic emotional plug in a movie that was devoid of any real meaning. I am disappointed that there are movies like this, ruining actor's like Christopher Walken's good name. I could barely sit through it.\",\n",
       "       b'I have been known to fall asleep during films, but this is usually due to a combination of things including, really tired, being warm and comfortable on the sette and having just eaten a lot. However on this occasion I fell asleep because the film was rubbish. The plot development was constant. Constantly slow and boring. Things seemed to happen, but with no explanation of what was causing them or why. I admit, I may have missed part of the film, but i watched the majority of it and everything just seemed to happen of its own accord without any real concern for anything else. I cant recommend this film at all.',\n",
       "       b'Mann photographs the Alberta Rocky Mountains in a superb fashion, and Jimmy Stewart and Walter Brennan give enjoyable performances as they always seem to do. <br /><br />But come on Hollywood - a Mountie telling the people of Dawson City, Yukon to elect themselves a marshal (yes a marshal!) and to enforce the law themselves, then gunfighters battling it out on the streets for control of the town? <br /><br />Nothing even remotely resembling that happened on the Canadian side of the border during the Klondike gold rush. Mr. Mann and company appear to have mistaken Dawson City for Deadwood, the Canadian North for the American Wild West.<br /><br />Canadian viewers be prepared for a Reefer Madness type of enjoyable howl with this ludicrous plot, or, to shake your head in disgust.',\n",
       "       b'This is the kind of film for a snowy Sunday afternoon when the rest of the world can go ahead with its own business as you descend into a big arm-chair and mellow for a couple of hours. Wonderful performances from Cher and Nicolas Cage (as always) gently row the plot along. There are no rapids to cross, no dangerous waters, just a warm and witty paddle through New York life at its best. A family film in every sense and one that deserves the praise it received.',\n",
       "       b'As others have mentioned, all the women that go nude in this film are mostly absolutely gorgeous. The plot very ably shows the hypocrisy of the female libido. When men are around they want to be pursued, but when no \"men\" are around, they become the pursuers of a 14 year old boy. And the boy becomes a man really fast (we should all be so lucky at this age!). He then gets up the courage to pursue his true love.',\n",
       "       b\"This is a film which should be seen by anybody interested in, effected by, or suffering from an eating disorder. It is an amazingly accurate and sensitive portrayal of bulimia in a teenage girl, its causes and its symptoms. The girl is played by one of the most brilliant young actresses working in cinema today, Alison Lohman, who was later so spectacular in 'Where the Truth Lies'. I would recommend that this film be shown in all schools, as you will never see a better on this subject. Alison Lohman is absolutely outstanding, and one marvels at her ability to convey the anguish of a girl suffering from this compulsive disorder. If barometers tell us the air pressure, Alison Lohman tells us the emotional pressure with the same degree of accuracy. Her emotional range is so precise, each scene could be measured microscopically for its gradations of trauma, on a scale of rising hysteria and desperation which reaches unbearable intensity. Mare Winningham is the perfect choice to play her mother, and does so with immense sympathy and a range of emotions just as finely tuned as Lohman's. Together, they make a pair of sensitive emotional oscillators vibrating in resonance with one another. This film is really an astonishing achievement, and director Katt Shea should be proud of it. The only reason for not seeing it is if you are not interested in people. But even if you like nature films best, this is after all animal behaviour at the sharp edge. Bulimia is an extreme version of how a tormented soul can destroy her own body in a frenzy of despair. And if we don't sympathise with people suffering from the depths of despair, then we are dead inside.\",\n",
       "       b'Okay, you have:<br /><br />Penelope Keith as Miss Herringbone-Tweed, B.B.E. (Backbone of England.) She\\'s killed off in the first scene - that\\'s right, folks; this show has no backbone!<br /><br />Peter O\\'Toole as Ol\\' Colonel Cricket from The First War and now the emblazered Lord of the Manor.<br /><br />Joanna Lumley as the ensweatered Lady of the Manor, 20 years younger than the colonel and 20 years past her own prime but still glamourous (Brit spelling, not mine) enough to have a toy-boy on the side. It\\'s alright, they have Col. Cricket\\'s full knowledge and consent (they guy even comes \\'round for Christmas!) Still, she\\'s considerate of the colonel enough to have said toy-boy her own age (what a gal!)<br /><br />David McCallum as said toy-boy, equally as pointlessly glamourous as his squeeze. Pilcher couldn\\'t come up with any cover for him within the story, so she gave him a hush-hush job at the Circus.<br /><br />and finally:<br /><br />Susan Hampshire as Miss Polonia Teacups, Venerable Headmistress of the Venerable Girls\\' Boarding-School, serving tea in her office with a dash of deep, poignant advice for life in the outside world just before graduation. Her best bit of advice: \"I\\'ve only been to Nancherrow (the local Stately Home of England) once. I thought it was very beautiful but, somehow, not part of the real world.\" Well, we can\\'t say they didn\\'t warn us.<br /><br />Ah, Susan - time was, your character would have been running the whole show. They don\\'t write \\'em like that any more. Our loss, not yours.<br /><br />So - with a cast and setting like this, you have the re-makings of \"Brideshead Revisited,\" right?<br /><br />Wrong! They took these 1-dimensional supporting roles because they paid so well. After all, acting is one of the oldest temp-jobs there is (YOU name another!)<br /><br />First warning sign: lots and lots of backlighting. They get around it by shooting outdoors - \"hey, it\\'s just the sunlight!\"<br /><br />Second warning sign: Leading Lady cries a lot. When not crying, her eyes are moist. That\\'s the law of romance novels: Leading Lady is \"dewy-eyed.\"<br /><br />Henceforth, Leading Lady shall be known as L.L.<br /><br />Third warning sign: L.L. actually has stars in her eyes when she\\'s in love. Still, I\\'ll give Emily Mortimer an award just for having to act with that spotlight in her eyes (I wonder . did they use contacts?)<br /><br />And lastly, fourth warning sign: no on-screen female character is \"Mrs.\" She\\'s either \"Miss\" or \"Lady.\"<br /><br />When all was said and done, I still couldn\\'t tell you who was pursuing whom and why. I couldn\\'t even tell you what was said and done.<br /><br />To sum up: they all live through World War II without anything happening to them at all.<br /><br />OK, at the end, L.L. finds she\\'s lost her parents to the Japanese prison camps and baby sis comes home catatonic. Meanwhile (there\\'s always a \"meanwhile,\") some young guy L.L. had a crush on (when, I don\\'t know) comes home from some wartime tough spot and is found living on the street by Lady of the Manor (must be some street if SHE\\'s going to find him there.) Both war casualties are whisked away to recover at Nancherrow (SOMEBODY has to be \"whisked away\" SOMEWHERE in these romance stories!)<br /><br />Great drama.',\n",
       "       b'The film is based on a genuine 1950s novel.<br /><br />Journalist Colin McInnes wrote a set of three \"London novels\": \"Absolute Beginners\", \"City of Spades\" and \"Mr Love and Justice\". I have read all three. The first two are excellent. The last, perhaps an experiment that did not come off. But McInnes\\'s work is highly acclaimed; and rightly so. This musical is the novelist\\'s ultimate nightmare - to see the fruits of one\\'s mind being turned into a glitzy, badly-acted, soporific one-dimensional apology of a film that says it captures the spirit of 1950s London, and does nothing of the sort.<br /><br />Thank goodness Colin McInnes wasn\\'t alive to witness it.',\n",
       "       b'I really love the sexy action and sci-fi films of the sixties and its because of the actress\\'s that appeared in them. They found the sexiest women to be in these films and it didn\\'t matter if they could act (Remember \"Candy\"?). The reason I was disappointed by this film was because it wasn\\'t nostalgic enough. The story here has a European sci-fi film called \"Dragonfly\" being made and the director is fired. So the producers decide to let a young aspiring filmmaker (Jeremy Davies) to complete the picture. They\\'re is one real beautiful woman in the film who plays Dragonfly but she\\'s barely in it. Film is written and directed by Roman Coppola who uses some of his fathers exploits from his early days and puts it into the script. I wish the film could have been an homage to those early films. They could have lots of cameos by actors who appeared in them. There is one actor in this film who was popular from the sixties and its John Phillip Law (Barbarella). Gerard Depardieu, Giancarlo Giannini and Dean Stockwell appear as well. I guess I\\'m going to have to continue waiting for a director to make a good homage to the films of the sixties. If any are reading this, \"Make it as sexy as you can\"! I\\'ll be waiting!',\n",
       "       b'Sure, this one isn\\'t really a blockbuster, nor does it target such a position. \"Dieter\" is the first name of a quite popular German musician, who is either loved or hated for his kind of acting and thats exactly what this movie is about. It is based on the autobiography \"Dieter Bohlen\" wrote a few years ago but isn\\'t meant to be accurate on that. The movie is filled with some sexual offensive content (at least for American standard) which is either amusing (not for the other \"actors\" of course) or dumb - it depends on your individual kind of humor or on you being a \"Bohlen\"-Fan or not. Technically speaking there isn\\'t much to criticize. Speaking of me I find this movie to be an OK-movie.'],\n",
       "      dtype=object)>"
      ]
     },
     "execution_count": 4,
     "metadata": {},
     "output_type": "execute_result"
    }
   ],
   "source": [
    "train_examples_batch, train_labels_batch = next(iter(train_data.batch(10)))\n",
    "train_examples_batch"
   ]
  },
  {
   "cell_type": "code",
   "execution_count": 5,
   "id": "0e31ff97",
   "metadata": {},
   "outputs": [
    {
     "data": {
      "text/plain": [
       "<tf.Tensor: shape=(10,), dtype=int64, numpy=array([0, 0, 0, 1, 1, 1, 0, 0, 0, 0], dtype=int64)>"
      ]
     },
     "execution_count": 5,
     "metadata": {},
     "output_type": "execute_result"
    }
   ],
   "source": [
    "train_labels_batch # 0: negative review , 1: positive review"
   ]
  },
  {
   "cell_type": "markdown",
   "id": "f634faf8",
   "metadata": {},
   "source": [
    "## Model"
   ]
  },
  {
   "cell_type": "code",
   "execution_count": 7,
   "id": "93480ea6",
   "metadata": {},
   "outputs": [
    {
     "data": {
      "text/plain": [
       "<tf.Tensor: shape=(5, 20), dtype=float32, numpy=\n",
       "array([[ 1.765786  , -3.882232  ,  3.9134233 , -1.5557289 , -3.3362343 ,\n",
       "        -1.7357955 , -1.9954445 ,  1.2989551 ,  5.081598  , -1.1041286 ,\n",
       "        -2.0503852 , -0.72675157, -0.65675956,  0.24436149, -3.7208383 ,\n",
       "         2.0954835 ,  2.2969332 , -2.0689783 , -2.9489717 , -1.1315987 ],\n",
       "       [ 1.8804485 , -2.5852382 ,  3.4066997 ,  1.0982676 , -4.056685  ,\n",
       "        -4.891284  , -2.785554  ,  1.3874227 ,  3.8476458 , -0.9256538 ,\n",
       "        -1.896706  ,  1.2113281 ,  0.11474707,  0.76209456, -4.8791065 ,\n",
       "         2.906149  ,  4.7087674 , -2.3652055 , -3.5015898 , -1.6390051 ],\n",
       "       [ 0.71152234, -0.6353217 ,  1.7385626 , -1.1168286 , -0.5451594 ,\n",
       "        -1.1808156 ,  0.09504455,  1.4653089 ,  0.66059524,  0.79308075,\n",
       "        -2.2268345 ,  0.07446612, -1.4075904 , -0.70645386, -1.907037  ,\n",
       "         1.4419787 ,  1.9551861 , -0.42660055, -2.8022065 ,  0.43727064],\n",
       "       [ 1.5165    , -0.71034056,  1.8556767 , -1.2033532 , -1.3105817 ,\n",
       "        -0.8829813 , -1.1187646 ,  0.5318602 ,  1.0793796 , -1.704331  ,\n",
       "        -2.419896  ,  1.3787876 , -1.5979576 , -0.8075193 , -2.770235  ,\n",
       "         1.4840026 ,  2.2181196 , -1.1752981 , -3.653832  , -0.43227202],\n",
       "       [ 2.2775352 , -2.859779  ,  1.5962925 , -1.229557  , -2.915857  ,\n",
       "        -3.408698  , -1.6590053 ,  0.90293777,  2.820842  ,  0.34331927,\n",
       "        -1.2213763 ,  0.8157163 , -1.3391474 ,  0.24255586, -5.0900426 ,\n",
       "         2.0221164 ,  2.7441626 , -2.8562224 , -3.235116  , -0.24184115]],\n",
       "      dtype=float32)>"
      ]
     },
     "execution_count": 7,
     "metadata": {},
     "output_type": "execute_result"
    }
   ],
   "source": [
    "embedding = \"https://tfhub.dev/google/tf2-preview/gnews-swivel-20dim/1\" # tensorflow hub - bring model that is already made\n",
    "hub_layer = hub.KerasLayer(embedding, input_shape=[], dtype=tf.string, trainable=True)\n",
    "hub_layer(train_examples_batch[:5])"
   ]
  },
  {
   "cell_type": "code",
   "execution_count": 8,
   "id": "c543b105",
   "metadata": {},
   "outputs": [
    {
     "name": "stdout",
     "output_type": "stream",
     "text": [
      "Model: \"sequential\"\n",
      "_________________________________________________________________\n",
      "Layer (type)                 Output Shape              Param #   \n",
      "=================================================================\n",
      "keras_layer (KerasLayer)     (None, 20)                400020    \n",
      "_________________________________________________________________\n",
      "dense (Dense)                (None, 16)                336       \n",
      "_________________________________________________________________\n",
      "dense_1 (Dense)              (None, 1)                 17        \n",
      "=================================================================\n",
      "Total params: 400,373\n",
      "Trainable params: 400,373\n",
      "Non-trainable params: 0\n",
      "_________________________________________________________________\n"
     ]
    }
   ],
   "source": [
    "model = keras.Sequential()\n",
    "model.add(hub_layer)\n",
    "model.add(keras.layers.Dense(16, activation='relu'))\n",
    "model.add(keras.layers.Dense(1, activation='sigmoid'))\n",
    "\n",
    "model.summary()"
   ]
  },
  {
   "cell_type": "code",
   "execution_count": 9,
   "id": "8380e092",
   "metadata": {},
   "outputs": [],
   "source": [
    "model.compile(optimizer='adam',\n",
    "              loss=keras.losses.BinaryCrossentropy(from_logits=True),\n",
    "              metrics=['accuracy'])"
   ]
  },
  {
   "cell_type": "code",
   "execution_count": 10,
   "id": "b985a7b0",
   "metadata": {},
   "outputs": [
    {
     "name": "stdout",
     "output_type": "stream",
     "text": [
      "Epoch 1/20\n",
      "235/235 [==============================] - 8s 33ms/step - loss: 0.6696 - accuracy: 0.5857 - val_loss: 0.6442 - val_accuracy: 0.6827\n",
      "Epoch 2/20\n",
      "235/235 [==============================] - 7s 31ms/step - loss: 0.6266 - accuracy: 0.7311 - val_loss: 0.6105 - val_accuracy: 0.7821\n",
      "Epoch 3/20\n",
      "235/235 [==============================] - 7s 31ms/step - loss: 0.5949 - accuracy: 0.8107 - val_loss: 0.5923 - val_accuracy: 0.8296\n",
      "Epoch 4/20\n",
      "235/235 [==============================] - 7s 31ms/step - loss: 0.5742 - accuracy: 0.8557 - val_loss: 0.5789 - val_accuracy: 0.8465\n",
      "Epoch 5/20\n",
      "235/235 [==============================] - 7s 31ms/step - loss: 0.5608 - accuracy: 0.8837 - val_loss: 0.5733 - val_accuracy: 0.8597\n",
      "Epoch 6/20\n",
      "235/235 [==============================] - 7s 30ms/step - loss: 0.5511 - accuracy: 0.9064 - val_loss: 0.5689 - val_accuracy: 0.8553\n",
      "Epoch 7/20\n",
      "235/235 [==============================] - 7s 30ms/step - loss: 0.5437 - accuracy: 0.9213 - val_loss: 0.5676 - val_accuracy: 0.8667\n",
      "Epoch 8/20\n",
      "235/235 [==============================] - 7s 31ms/step - loss: 0.5379 - accuracy: 0.9318 - val_loss: 0.5666 - val_accuracy: 0.8696\n",
      "Epoch 9/20\n",
      "235/235 [==============================] - 7s 30ms/step - loss: 0.5331 - accuracy: 0.9425 - val_loss: 0.5651 - val_accuracy: 0.8703\n",
      "Epoch 10/20\n",
      "235/235 [==============================] - 7s 31ms/step - loss: 0.5293 - accuracy: 0.9505 - val_loss: 0.5657 - val_accuracy: 0.8711\n",
      "Epoch 11/20\n",
      "235/235 [==============================] - 7s 30ms/step - loss: 0.5263 - accuracy: 0.9557 - val_loss: 0.5663 - val_accuracy: 0.8710\n",
      "Epoch 12/20\n",
      "235/235 [==============================] - 7s 30ms/step - loss: 0.5240 - accuracy: 0.9596 - val_loss: 0.5661 - val_accuracy: 0.8707\n",
      "Epoch 13/20\n",
      "235/235 [==============================] - 7s 30ms/step - loss: 0.5221 - accuracy: 0.9627 - val_loss: 0.5639 - val_accuracy: 0.8696\n",
      "Epoch 14/20\n",
      "235/235 [==============================] - 7s 31ms/step - loss: 0.5206 - accuracy: 0.9651 - val_loss: 0.5661 - val_accuracy: 0.8710\n",
      "Epoch 15/20\n",
      "235/235 [==============================] - 7s 31ms/step - loss: 0.5194 - accuracy: 0.9668 - val_loss: 0.5662 - val_accuracy: 0.8711\n",
      "Epoch 16/20\n",
      "235/235 [==============================] - 7s 31ms/step - loss: 0.5187 - accuracy: 0.9685 - val_loss: 0.5643 - val_accuracy: 0.8695\n",
      "Epoch 17/20\n",
      "235/235 [==============================] - 7s 31ms/step - loss: 0.5179 - accuracy: 0.9695 - val_loss: 0.5666 - val_accuracy: 0.8702\n",
      "Epoch 18/20\n",
      "235/235 [==============================] - 7s 31ms/step - loss: 0.5172 - accuracy: 0.9710 - val_loss: 0.5659 - val_accuracy: 0.8711\n",
      "Epoch 19/20\n",
      "235/235 [==============================] - 7s 31ms/step - loss: 0.5168 - accuracy: 0.9717 - val_loss: 0.5669 - val_accuracy: 0.8710\n",
      "Epoch 20/20\n",
      "235/235 [==============================] - 7s 31ms/step - loss: 0.5164 - accuracy: 0.9725 - val_loss: 0.5666 - val_accuracy: 0.8701\n"
     ]
    }
   ],
   "source": [
    "history = model.fit(train_data.shuffle(10000).batch(64),\n",
    "                    epochs=20,\n",
    "                    validation_data=validation_data.batch(64))"
   ]
  },
  {
   "cell_type": "code",
   "execution_count": 11,
   "id": "c350f9c8",
   "metadata": {},
   "outputs": [
    {
     "name": "stdout",
     "output_type": "stream",
     "text": [
      "391/391 [==============================] - 5s 13ms/step - loss: 0.5698 - accuracy: 0.8636\n",
      "Metrics: loss Value: 0.570\n",
      "Metrics: accuracy Value: 0.864\n"
     ]
    }
   ],
   "source": [
    "results = model.evaluate(test_data.batch(64))\n",
    "\n",
    "for metrics, value in zip(model.metrics_names, results):\n",
    "    print(\"Metrics: %s Value: %.3f\" % (metrics, value))"
   ]
  },
  {
   "cell_type": "markdown",
   "id": "f0a10d53",
   "metadata": {},
   "source": [
    "## The result is almost same "
   ]
  }
 ],
 "metadata": {
  "kernelspec": {
   "display_name": "Python 3 (ipykernel)",
   "language": "python",
   "name": "python3"
  },
  "language_info": {
   "codemirror_mode": {
    "name": "ipython",
    "version": 3
   },
   "file_extension": ".py",
   "mimetype": "text/x-python",
   "name": "python",
   "nbconvert_exporter": "python",
   "pygments_lexer": "ipython3",
   "version": "3.7.11"
  }
 },
 "nbformat": 4,
 "nbformat_minor": 5
}
